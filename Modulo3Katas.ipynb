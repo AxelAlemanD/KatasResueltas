{
 "cells": [
  {
   "cell_type": "markdown",
   "metadata": {},
   "source": [
    "## Declaraciones if, else y elif"
   ]
  },
  {
   "cell_type": "markdown",
   "metadata": {},
   "source": [
    "Parte 1"
   ]
  },
  {
   "cell_type": "code",
   "execution_count": 1,
   "metadata": {},
   "outputs": [
    {
     "name": "stdout",
     "output_type": "stream",
     "text": [
      "¡ADVERTENCIA! Un asteroide se acerca demasiado rápido a la tierra.\n"
     ]
    }
   ],
   "source": [
    "velocidad_asteroide = 49\n",
    "\n",
    "if velocidad_asteroide > 25:\n",
    "    print(\"¡ADVERTENCIA! Un asteroide se acerca demasiado rápido a la tierra.\")\n",
    "else:\n",
    "    print(\"El asteroide esta lejos, puedes continuar con tu vida normal.\")"
   ]
  },
  {
   "cell_type": "markdown",
   "metadata": {},
   "source": [
    "Parte 2"
   ]
  },
  {
   "cell_type": "code",
   "execution_count": 2,
   "metadata": {},
   "outputs": [
    {
     "name": "stdout",
     "output_type": "stream",
     "text": [
      "El asteroide esta lejos, puedes continuar con tu vida normal.\n"
     ]
    }
   ],
   "source": [
    "velocidad_asteroide = 19\n",
    "\n",
    "if velocidad_asteroide > 25:\n",
    "    print(\"¡ADVERTENCIA! Un asteroide se acerca demasiado rápido a la tierra.\")\n",
    "elif velocidad_asteroide >= 20:\n",
    "    print(\"Un asteroide esta pasando cerca de la tierra. Sal a apreciarlo\")\n",
    "else:\n",
    "    print(\"El asteroide esta lejos, puedes continuar con tu vida normal.\")"
   ]
  },
  {
   "cell_type": "markdown",
   "metadata": {},
   "source": [
    "## Operadores AND y OR"
   ]
  },
  {
   "cell_type": "code",
   "execution_count": 11,
   "metadata": {},
   "outputs": [
    {
     "name": "stdout",
     "output_type": "stream",
     "text": [
      "El asteroide esta lejos, puedes continuar con tu vida normal.\n"
     ]
    }
   ],
   "source": [
    "velocidad_asteroide = 19\n",
    "tamano_asteroide = 40\n",
    "\n",
    "if velocidad_asteroide > 25 and tamano_asteroide > 25:\n",
    "    print(\"¡ADVERTENCIA! Un asteroide se acerca demasiado rápido a la tierra.\")\n",
    "elif velocidad_asteroide >= 20:\n",
    "    print(\"Un asteroide esta pasando cerca de la tierra. Sal a apreciarlo\")\n",
    "else:\n",
    "    print(\"El asteroide esta lejos, puedes continuar con tu vida normal.\")"
   ]
  }
 ],
 "metadata": {
  "interpreter": {
   "hash": "31f2aee4e71d21fbe5cf8b01ff0e069b9275f58929596ceb00d14d90e3e16cd6"
  },
  "kernelspec": {
   "display_name": "Python 3.6.9 64-bit",
   "language": "python",
   "name": "python3"
  },
  "language_info": {
   "codemirror_mode": {
    "name": "ipython",
    "version": 3
   },
   "file_extension": ".py",
   "mimetype": "text/x-python",
   "name": "python",
   "nbconvert_exporter": "python",
   "pygments_lexer": "ipython3",
   "version": "3.6.9"
  },
  "orig_nbformat": 4
 },
 "nbformat": 4,
 "nbformat_minor": 2
}
